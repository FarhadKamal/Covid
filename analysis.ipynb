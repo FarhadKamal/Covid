{
 "cells": [
  {
   "cell_type": "markdown",
   "metadata": {},
   "source": [
    "<div align=\"center\">\n",
    "    <font size=4>\n",
    "Analyzing Covid-19 cases in Bangladesh\n",
    "    <br/>\n",
    "    <br/>\n",
    "Sk. Farhad Kamal\n",
    "     </font>\n",
    "</div>"
   ]
  },
  {
   "cell_type": "markdown",
   "metadata": {},
   "source": [
    "\n",
    ">Dataset:        \n",
    "***kaggle.com/mrfarhad/covid19-bangladesh***\n",
    ">\n",
    "> Source Code:   \n",
    "***github.com/FarhadKamal/Covid***\n",
    "\n",
    "\n",
    "\n"
   ]
  },
  {
   "cell_type": "markdown",
   "metadata": {},
   "source": [
    ">***Abstract:*** This Dataset is updated every 24 hours based on Bangladesh IEDCR (Institute of Epidemiology, Disease Control and Research) information.\n",
    ">Daily new deaths, new cases and new recoveries are collected from IEDCR.\n",
    "\n",
    ">The pupose of this analysis is to find out how the rates of infection are changing in Bangladesh and whether the deaths and recoveries ratio is alarming for the future or not? "
   ]
  },
  {
   "cell_type": "markdown",
   "metadata": {},
   "source": [
    ">In this chart it can be seen that the number of patients infected with ***Covid-19*** is sharply increasing; however, the number of deaths and recoveries are increasing gradually.\n",
    "><img src=\"chart1.png\"/>"
   ]
  },
  {
   "cell_type": "markdown",
   "metadata": {},
   "source": [
    ">Majority of the people infected with ***Covid-19*** is still Active. This is an alarming sign because they have the potential to either recover or die from the virus. \n",
    "><img src=\"piechart1.png\"/>"
   ]
  },
  {
   "cell_type": "markdown",
   "metadata": {},
   "source": [
    ">Date wise ***Deaths vs. Recoveries*** \n",
    "><img src=\"chart2.png\"/>"
   ]
  },
  {
   "cell_type": "markdown",
   "metadata": {},
   "source": [
    ">***Recoveries*** percentage should be greater than ***Death*** rates but here we can clearly see that it is not, which is predicting an horrible future for Bangladesh \n",
    "><img src=\"piechart2.png\"/>"
   ]
  },
  {
   "cell_type": "markdown",
   "metadata": {},
   "source": [
    ">***Conclusion:*** The findings clearly show the alarming situation of Bangladesh and how it may exacerbate in the near future. Inital steps must be taken early enough in attempts to flatten the curve.  "
   ]
  }
 ],
 "metadata": {
  "kernelspec": {
   "display_name": "Python 3",
   "language": "python",
   "name": "python3"
  },
  "language_info": {
   "codemirror_mode": {
    "name": "ipython",
    "version": 3
   },
   "file_extension": ".py",
   "mimetype": "text/x-python",
   "name": "python",
   "nbconvert_exporter": "python",
   "pygments_lexer": "ipython3",
   "version": "3.7.3"
  }
 },
 "nbformat": 4,
 "nbformat_minor": 2
}
